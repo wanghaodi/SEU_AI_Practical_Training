{
 "cells": [
  {
   "cell_type": "code",
   "execution_count": 1,
   "metadata": {},
   "outputs": [
    {
     "name": "stdout",
     "output_type": "stream",
     "text": [
      "(<socket.socket fd=59, family=AddressFamily.AF_INET, type=SocketKind.SOCK_STREAM, proto=0, laddr=('127.0.0.1', 22222), raddr=('127.0.0.1', 51767)>, ('127.0.0.1', 51767))\n",
      "客户链接： 127.0.0.1 51768\n",
      "<socket.socket fd=59, family=AddressFamily.AF_INET, type=SocketKind.SOCK_STREAM, proto=0, laddr=('127.0.0.1', 22222), raddr=('127.0.0.1', 51768)>\n"
     ]
    },
    {
     "data": {
      "text/plain": [
       "137"
      ]
     },
     "execution_count": 1,
     "metadata": {},
     "output_type": "execute_result"
    }
   ],
   "source": [
    "import socket\n",
    "import ssl\n",
    "\n",
    "# ip与端口\n",
    "ip_addr = ('', 22222)\n",
    "\n",
    "# 创建一个插座\n",
    "sk = socket.socket(socket.AF_INET, socket.SOCK_STREAM, socket.IPPROTO_TCP)\n",
    "\n",
    "# 插座插在硬件上/文件\n",
    "sk.bind(ip_addr)\n",
    "\n",
    "# 设置监控，对sk的数据监控\n",
    "sk.listen(2)   # 并发监控的数量2-10\n",
    "\n",
    "print(sk.accept())\n",
    "# 安置接待\n",
    "client_sk, (ip, port) = sk.accept()   # 阻塞函数，等待sk的内存有客户链接数据\n",
    "print(\"客户链接：\", ip, port)\n",
    "print(client_sk)\n",
    "\n",
    "\n",
    "str_response = 'HTTP/1.1 300 ok\\r\\n'\n",
    "str_response += 'Refresh:3; url=http://www.baidu.com'\n",
    "str_response += 'WWW-Authenticate: Basic realm=\"Louis!\"\\r\\n'\n",
    "str_response += 'Connection: Keep-Alive\\r\\n'\n",
    "str_response += 'Keep-Alive: 115\\r\\n'\n",
    "str_response += '\\r\\n\\r\\n'\n",
    "\n",
    "client_sk.send(str_response.encode(\"utf-8\"))\n",
    "# while True:\n",
    "#     buffer = client_sk.recv(4*1024, 0)\n",
    "#     if not buffer:\n",
    "#         print(\"用户退出/网络故障！\") \n",
    "#         break\n",
    "        \n",
    "#     print(buffer.decode(\"utf-8\"))"
   ]
  },
  {
   "cell_type": "code",
   "execution_count": 2,
   "metadata": {},
   "outputs": [
    {
     "name": "stdout",
     "output_type": "stream",
     "text": [
      "HTTP/1.1 302 Found\n",
      "Connection: keep-alive\n",
      "Content-Length: 154\n",
      "Content-Type: text/html\n",
      "Date: Mon, 18 Jan 2021 05:12:58 GMT\n",
      "Location: https://www.baidu.com/\n",
      "P3p: CP=\" OTI DSP COR IVA OUR IND COM \"\n",
      "P3p: CP=\" OTI DSP COR IVA OUR IND COM \"\n",
      "Server: BWS/1.1\n",
      "Set-Cookie: BAIDUID=823FBAA053F32766C2AE25ACCF35211E:FG=1; expires=Thu, 31-Dec-37 23:55:55 GMT; max-age=2147483647; path=/; domain=.baidu.com\n",
      "Set-Cookie: BIDUPSID=823FBAA053F32766C2AE25ACCF35211E; expires=Thu, 31-Dec-37 23:55:55 GMT; max-age=2147483647; path=/; domain=.baidu.com\n",
      "Set-Cookie: PSTM=1610946778; expires=Thu, 31-Dec-37 23:55:55 GMT; max-age=2147483647; path=/; domain=.baidu.com\n",
      "Set-Cookie: BAIDUID=823FBAA053F32766D67CC297406644F7:FG=1; max-age=31536000; expires=Tue, 18-Jan-22 05:12:58 GMT; domain=.baidu.com; path=/; version=1; comment=bd\n",
      "Set-Cookie: BD_LAST_QID=11436108629062242996; path=/; Max-Age=1\n",
      "Traceid: 1610946778240463975411436108629062242996\n",
      "X-Ua-Compatible: IE=Edge,chrome=1\n",
      "\n",
      "<html>\n",
      "<head><title>302 Found</title></head>\n",
      "<body bgcolor=\"white\">\n",
      "<center><h1>302 Found</h1></center>\n",
      "<hr><center>nginx</center>\n",
      "</body>\n",
      "</html>\n",
      "HTTP/1.1 400 Bad Request\n",
      "\n",
      "\n"
     ]
    }
   ],
   "source": [
    "import socket \n",
    "\n",
    "# result = socket.getaddrinfo(\"www.baidu.com\", 80, proto=socket.IPPROTO_TCP)\n",
    "# for  _,_,_,_, (ip, port) in  result:\n",
    "#     print(ip, port)\n",
    "\n",
    "ip_addr = (\"www.baidu.com\", 80)\n",
    "\n",
    "sk = socket.socket(socket.AF_INET, socket.SOCK_STREAM, socket.IPPROTO_TCP)\n",
    "\n",
    "sk.connect(ip_addr)\n",
    "\n",
    "# 构造一个请求\n",
    "str_request = \"GET / HTTP/1.1\\r\\n\"\n",
    "str_request += F\"Host: {ip_addr[0]}:80\\r\\n\"\n",
    "str_request += \"Connection: keep-alive\\r\\n\"\n",
    "str_request += \"User-Agent: Mozilla/5.0 (Windows NT 10.0; Win64; x64) AppleWebKit/537.36 (KHTML, like Gecko) Chrome/87.0.4280.141 Safari/537.36\\r\\n\"\n",
    "str_request += \"Accept: text/html\\r\\n\"\n",
    "str_request += \"Accept-Language: zh-CN\\r\\n\"\n",
    "str_request += \"\\r\\n\\r\\n\"   # 空行\n",
    "\n",
    "# 发送\n",
    "sk.send(str_request.encode(\"utf-8\"))\n",
    "\n",
    "# 接受服务器响应\n",
    "while True:\n",
    "    buffer = sk.recv(4*1024, 0)\n",
    "    if not buffer:\n",
    "        break\n",
    "    print(buffer.decode())"
   ]
  },
  {
   "cell_type": "code",
   "execution_count": null,
   "metadata": {},
   "outputs": [],
   "source": []
  }
 ],
 "metadata": {
  "kernelspec": {
   "display_name": "Python 3",
   "language": "python",
   "name": "python3"
  },
  "language_info": {
   "codemirror_mode": {
    "name": "ipython",
    "version": 3
   },
   "file_extension": ".py",
   "mimetype": "text/x-python",
   "name": "python",
   "nbconvert_exporter": "python",
   "pygments_lexer": "ipython3",
   "version": "3.8.5"
  }
 },
 "nbformat": 4,
 "nbformat_minor": 4
}
